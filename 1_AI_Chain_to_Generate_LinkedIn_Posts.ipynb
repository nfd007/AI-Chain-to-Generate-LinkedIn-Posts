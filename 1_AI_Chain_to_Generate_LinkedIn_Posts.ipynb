{
  "nbformat": 4,
  "nbformat_minor": 0,
  "metadata": {
    "colab": {
      "provenance": []
    },
    "kernelspec": {
      "name": "python3",
      "display_name": "Python 3"
    },
    "language_info": {
      "name": "python"
    }
  },
  "cells": [
    {
      "cell_type": "code",
      "execution_count": null,
      "metadata": {
        "colab": {
          "base_uri": "https://localhost:8080/"
        },
        "id": "XMfdPZKrjhkb",
        "outputId": "36a643a0-7f73-47fe-b3ab-116443aefb0e"
      },
      "outputs": [
        {
          "output_type": "stream",
          "name": "stdout",
          "text": [
            "Requirement already satisfied: langchain in /usr/local/lib/python3.11/dist-packages (0.3.26)\n",
            "Requirement already satisfied: langchain-community in /usr/local/lib/python3.11/dist-packages (0.3.27)\n",
            "Requirement already satisfied: openai in /usr/local/lib/python3.11/dist-packages (1.97.1)\n",
            "Requirement already satisfied: langchain-core<1.0.0,>=0.3.66 in /usr/local/lib/python3.11/dist-packages (from langchain) (0.3.69)\n",
            "Requirement already satisfied: langchain-text-splitters<1.0.0,>=0.3.8 in /usr/local/lib/python3.11/dist-packages (from langchain) (0.3.8)\n",
            "Requirement already satisfied: langsmith>=0.1.17 in /usr/local/lib/python3.11/dist-packages (from langchain) (0.4.7)\n",
            "Requirement already satisfied: pydantic<3.0.0,>=2.7.4 in /usr/local/lib/python3.11/dist-packages (from langchain) (2.11.7)\n",
            "Requirement already satisfied: SQLAlchemy<3,>=1.4 in /usr/local/lib/python3.11/dist-packages (from langchain) (2.0.41)\n",
            "Requirement already satisfied: requests<3,>=2 in /usr/local/lib/python3.11/dist-packages (from langchain) (2.32.3)\n",
            "Requirement already satisfied: PyYAML>=5.3 in /usr/local/lib/python3.11/dist-packages (from langchain) (6.0.2)\n",
            "Requirement already satisfied: aiohttp<4.0.0,>=3.8.3 in /usr/local/lib/python3.11/dist-packages (from langchain-community) (3.11.15)\n",
            "Requirement already satisfied: tenacity!=8.4.0,<10,>=8.1.0 in /usr/local/lib/python3.11/dist-packages (from langchain-community) (8.5.0)\n",
            "Requirement already satisfied: dataclasses-json<0.7,>=0.5.7 in /usr/local/lib/python3.11/dist-packages (from langchain-community) (0.6.7)\n",
            "Requirement already satisfied: pydantic-settings<3.0.0,>=2.4.0 in /usr/local/lib/python3.11/dist-packages (from langchain-community) (2.10.1)\n",
            "Requirement already satisfied: httpx-sse<1.0.0,>=0.4.0 in /usr/local/lib/python3.11/dist-packages (from langchain-community) (0.4.1)\n",
            "Requirement already satisfied: numpy>=1.26.2 in /usr/local/lib/python3.11/dist-packages (from langchain-community) (2.0.2)\n",
            "Requirement already satisfied: anyio<5,>=3.5.0 in /usr/local/lib/python3.11/dist-packages (from openai) (4.9.0)\n",
            "Requirement already satisfied: distro<2,>=1.7.0 in /usr/local/lib/python3.11/dist-packages (from openai) (1.9.0)\n",
            "Requirement already satisfied: httpx<1,>=0.23.0 in /usr/local/lib/python3.11/dist-packages (from openai) (0.28.1)\n",
            "Requirement already satisfied: jiter<1,>=0.4.0 in /usr/local/lib/python3.11/dist-packages (from openai) (0.10.0)\n",
            "Requirement already satisfied: sniffio in /usr/local/lib/python3.11/dist-packages (from openai) (1.3.1)\n",
            "Requirement already satisfied: tqdm>4 in /usr/local/lib/python3.11/dist-packages (from openai) (4.67.1)\n",
            "Requirement already satisfied: typing-extensions<5,>=4.11 in /usr/local/lib/python3.11/dist-packages (from openai) (4.14.1)\n",
            "Requirement already satisfied: aiohappyeyeballs>=2.3.0 in /usr/local/lib/python3.11/dist-packages (from aiohttp<4.0.0,>=3.8.3->langchain-community) (2.6.1)\n",
            "Requirement already satisfied: aiosignal>=1.1.2 in /usr/local/lib/python3.11/dist-packages (from aiohttp<4.0.0,>=3.8.3->langchain-community) (1.4.0)\n",
            "Requirement already satisfied: attrs>=17.3.0 in /usr/local/lib/python3.11/dist-packages (from aiohttp<4.0.0,>=3.8.3->langchain-community) (25.3.0)\n",
            "Requirement already satisfied: frozenlist>=1.1.1 in /usr/local/lib/python3.11/dist-packages (from aiohttp<4.0.0,>=3.8.3->langchain-community) (1.7.0)\n",
            "Requirement already satisfied: multidict<7.0,>=4.5 in /usr/local/lib/python3.11/dist-packages (from aiohttp<4.0.0,>=3.8.3->langchain-community) (6.6.3)\n",
            "Requirement already satisfied: propcache>=0.2.0 in /usr/local/lib/python3.11/dist-packages (from aiohttp<4.0.0,>=3.8.3->langchain-community) (0.3.2)\n",
            "Requirement already satisfied: yarl<2.0,>=1.17.0 in /usr/local/lib/python3.11/dist-packages (from aiohttp<4.0.0,>=3.8.3->langchain-community) (1.20.1)\n",
            "Requirement already satisfied: idna>=2.8 in /usr/local/lib/python3.11/dist-packages (from anyio<5,>=3.5.0->openai) (3.10)\n",
            "Requirement already satisfied: marshmallow<4.0.0,>=3.18.0 in /usr/local/lib/python3.11/dist-packages (from dataclasses-json<0.7,>=0.5.7->langchain-community) (3.26.1)\n",
            "Requirement already satisfied: typing-inspect<1,>=0.4.0 in /usr/local/lib/python3.11/dist-packages (from dataclasses-json<0.7,>=0.5.7->langchain-community) (0.9.0)\n",
            "Requirement already satisfied: certifi in /usr/local/lib/python3.11/dist-packages (from httpx<1,>=0.23.0->openai) (2025.7.14)\n",
            "Requirement already satisfied: httpcore==1.* in /usr/local/lib/python3.11/dist-packages (from httpx<1,>=0.23.0->openai) (1.0.9)\n",
            "Requirement already satisfied: h11>=0.16 in /usr/local/lib/python3.11/dist-packages (from httpcore==1.*->httpx<1,>=0.23.0->openai) (0.16.0)\n",
            "Requirement already satisfied: jsonpatch<2.0,>=1.33 in /usr/local/lib/python3.11/dist-packages (from langchain-core<1.0.0,>=0.3.66->langchain) (1.33)\n",
            "Requirement already satisfied: packaging>=23.2 in /usr/local/lib/python3.11/dist-packages (from langchain-core<1.0.0,>=0.3.66->langchain) (25.0)\n",
            "Requirement already satisfied: orjson<4.0.0,>=3.9.14 in /usr/local/lib/python3.11/dist-packages (from langsmith>=0.1.17->langchain) (3.11.0)\n",
            "Requirement already satisfied: requests-toolbelt<2.0.0,>=1.0.0 in /usr/local/lib/python3.11/dist-packages (from langsmith>=0.1.17->langchain) (1.0.0)\n",
            "Requirement already satisfied: zstandard<0.24.0,>=0.23.0 in /usr/local/lib/python3.11/dist-packages (from langsmith>=0.1.17->langchain) (0.23.0)\n",
            "Requirement already satisfied: annotated-types>=0.6.0 in /usr/local/lib/python3.11/dist-packages (from pydantic<3.0.0,>=2.7.4->langchain) (0.7.0)\n",
            "Requirement already satisfied: pydantic-core==2.33.2 in /usr/local/lib/python3.11/dist-packages (from pydantic<3.0.0,>=2.7.4->langchain) (2.33.2)\n",
            "Requirement already satisfied: typing-inspection>=0.4.0 in /usr/local/lib/python3.11/dist-packages (from pydantic<3.0.0,>=2.7.4->langchain) (0.4.1)\n",
            "Requirement already satisfied: python-dotenv>=0.21.0 in /usr/local/lib/python3.11/dist-packages (from pydantic-settings<3.0.0,>=2.4.0->langchain-community) (1.1.1)\n",
            "Requirement already satisfied: charset-normalizer<4,>=2 in /usr/local/lib/python3.11/dist-packages (from requests<3,>=2->langchain) (3.4.2)\n",
            "Requirement already satisfied: urllib3<3,>=1.21.1 in /usr/local/lib/python3.11/dist-packages (from requests<3,>=2->langchain) (2.4.0)\n",
            "Requirement already satisfied: greenlet>=1 in /usr/local/lib/python3.11/dist-packages (from SQLAlchemy<3,>=1.4->langchain) (3.2.3)\n",
            "Requirement already satisfied: jsonpointer>=1.9 in /usr/local/lib/python3.11/dist-packages (from jsonpatch<2.0,>=1.33->langchain-core<1.0.0,>=0.3.66->langchain) (3.0.0)\n",
            "Requirement already satisfied: mypy-extensions>=0.3.0 in /usr/local/lib/python3.11/dist-packages (from typing-inspect<1,>=0.4.0->dataclasses-json<0.7,>=0.5.7->langchain-community) (1.1.0)\n"
          ]
        }
      ],
      "source": [
        "!pip install --upgrade langchain langchain-community openai\n",
        "!pip install -qU langchain-openai\n",
        "\n"
      ]
    },
    {
      "cell_type": "code",
      "source": [
        "import os\n",
        "from langchain_openai import ChatOpenAI\n",
        "from langchain.prompts import FewShotPromptTemplate\n",
        "from langchain.chains import LLMChain\n",
        "from langchain.prompts import PromptTemplate\n",
        "from google.colab import userdata\n",
        "from openai import OpenAI # Import the OpenAI cl"
      ],
      "metadata": {
        "id": "DRv_5jJQpW26"
      },
      "execution_count": null,
      "outputs": []
    },
    {
      "cell_type": "code",
      "source": [],
      "metadata": {
        "id": "aAnq1Im0pXA2"
      },
      "execution_count": null,
      "outputs": []
    },
    {
      "cell_type": "code",
      "source": [
        "examples = [\n",
        "    {\n",
        "        \"topic\": \"Artificial Intelligence\",\n",
        "        \"language\": \"English\",\n",
        "        \"post\": \"AI is revolutionizing industries by automating complex tasks, unlocking new business models, and empowering human creativity. Those who embrace AI will drive the future. #AI #Innovation\"\n",
        "    },\n",
        "    {\n",
        "        \"topic\": \"Remote Work\",\n",
        "        \"language\": \"English\",\n",
        "        \"post\": \"Remote work is more than a trend—it's a transformation. Flexibility and autonomy lead to happier teams and greater productivity. How has remote work changed your career? #RemoteWork #FutureOfWork\"\n",
        "    },\n",
        "    {\n",
        "        \"topic\": \"Personal Branding\",\n",
        "        \"language\": \"English\",\n",
        "        \"post\": \"Building a personal brand online isn't optional anymore. It's about showcasing your authentic self, sharing your expertise, and growing your network. What steps are you taking today? #PersonalBranding\"\n",
        "    },\n",
        "    {\n",
        "        \"topic\": \"Remote Work\",\n",
        "        \"language\": \"Spanish\",\n",
        "        \"post\": \"El trabajo remoto es mucho más que una tendencia. La flexibilidad y la autonomía aumentan la productividad y la satisfacción del equipo. ¿Cómo ha cambiado tu vida profesional el trabajo remoto? #TrabajoRemoto #FuturoDelTrabajo\"\n",
        "    },\n",
        "    {\n",
        "        \"topic\": \"Personal Branding\",\n",
        "        \"language\": \"Spanish\",\n",
        "        \"post\": \"Construir una marca personal es esencial en la era digital. Comparte tus conocimientos, muestra tu autenticidad y conecta con tu red. ¿Qué estás haciendo hoy por tu marca personal? #MarcaPersonal\"\n",
        "    },\n",
        "    {\n",
        "        \"topic\": \"Climate Change\",\n",
        "        \"language\": \"French\",\n",
        "        \"post\": \"Le changement climatique est un défi mondial qui exige une action collective. Chacun de nous peut contribuer à un avenir plus durable. Quelles mesures prenez-vous pour protéger la planète ? #ChangementClimatique #Durabilité\"\n",
        "    },\n",
        "    {\n",
        "        \"topic\": \"Data Privacy\",\n",
        "        \"language\": \"French\",\n",
        "        \"post\": \"La protection des données personnelles est essentielle à l'ère numérique. Adoptez de bonnes pratiques et informez-vous sur vos droits. #ProtectionDesDonnées #SécuritéNumérique\"\n",
        "    }\n",
        "]\n"
      ],
      "metadata": {
        "id": "CPNZqc9BqGG6"
      },
      "execution_count": null,
      "outputs": []
    },
    {
      "cell_type": "code",
      "source": [
        "\n",
        "\n",
        "example_prompt = PromptTemplate(\n",
        "    input_variables=[\"topic\", \"language\", \"post\"],\n",
        "    template=\"\"\"\n",
        "Topic: {topic}\n",
        "Language: {language}\n",
        "LinkedIn Post: {post}\n",
        "\"\"\"\n",
        ")\n",
        "\n",
        "prefix = (\n",
        "    \"You are an expert social media writer. Given a topic and a language, write a clear, engaging, and professional LinkedIn post about it in the specified language.\\n\"\n",
        "    \"Supported languages: English, Spanish, French.\"\n",
        ")\n",
        "\n",
        "suffix = \"\"\"\n",
        "Topic: {input_topic}\n",
        "Language: {input_language}\n",
        "LinkedIn Post:\"\"\"\n",
        "\n",
        "prompt = FewShotPromptTemplate(\n",
        "    examples=examples,\n",
        "    example_prompt=example_prompt,\n",
        "    prefix=prefix,\n",
        "    suffix=suffix,\n",
        "    input_variables=[\"input_topic\", \"input_language\"]\n",
        ")\n"
      ],
      "metadata": {
        "id": "Lw3yAJ_GqGPf"
      },
      "execution_count": null,
      "outputs": []
    },
    {
      "cell_type": "code",
      "source": [
        "\n",
        "\n",
        "# Use the GitHub token and endpoint provided\n",
        "os.environ['GITHUB_TOKEN'] = \" \"  # Replace with actual token\n",
        "token = os.environ['GITHUB_TOKEN']\n",
        "endpoint = \"https://models.github.ai/inference\"\n",
        "model_name = \"openai/gpt-4.1-nano\" # Use the model name specified\n",
        "\n",
        "# Initialize the OpenAI client with the custom base_url and api_key (GitHub token)\n",
        "client = OpenAI(\n",
        "    base_url=endpoint,\n",
        "    api_key=token,\n",
        ")\n",
        "\n",
        "# Initialize ChatOpenAI with the custom client\n",
        "llm = ChatOpenAI(\n",
        "    temperature=0.7,\n",
        "    max_tokens=150,\n",
        "    model_name=model_name,\n",
        "    openai_api_key=token, # Pass the token here as well\n",
        "    base_url=endpoint # Pass the endpoint here as well\n",
        ")\n",
        "\n",
        "chain = LLMChain(llm=llm, prompt=prompt)"
      ],
      "metadata": {
        "id": "ihiSxwAdqGS3"
      },
      "execution_count": null,
      "outputs": []
    },
    {
      "cell_type": "code",
      "source": [
        "topics_and_languages = [\n",
        "    (\"Artificial Intelligence\", \"English\"),\n",
        "    (\"Remote Work\", \"English\"),\n",
        "    (\"Climate Change\", \"French\"),\n",
        "    (\"Personal Branding\", \"Spanish\"),\n",
        "    (\"Data Privacy\", \"French\")\n",
        "]\n",
        "\n",
        "for topic, language in topics_and_languages:\n",
        "    print(f\"---\\nTopic: {topic} | Language: {language}\")\n",
        "    post = chain.invoke({\"input_topic\": topic, \"input_language\": language})[\"text\"]\n",
        "    print(post.strip())"
      ],
      "metadata": {
        "colab": {
          "base_uri": "https://localhost:8080/"
        },
        "id": "KUQMfadqqGXl",
        "outputId": "bd335de4-ba40-4a83-98a7-e0433dc6c860"
      },
      "execution_count": null,
      "outputs": [
        {
          "output_type": "stream",
          "name": "stdout",
          "text": [
            "---\n",
            "Topic: Artificial Intelligence | Language: English\n",
            "Artificial Intelligence is transforming the way we work and innovate. From streamlining operations to enabling groundbreaking solutions, AI is a key driver of future growth. Embracing this technology today prepares you for tomorrow’s opportunities. Let’s stay ahead of the curve. #AI #Innovation\n",
            "---\n",
            "Topic: Remote Work | Language: English\n",
            "Remote work continues to reshape our professional landscape. It offers flexibility, fosters trust, and enables better work-life balance. Embracing this shift is key to staying competitive and attracting top talent. How has remote work impacted your organization? #RemoteWork #FutureOfWork\n",
            "---\n",
            "Topic: Climate Change | Language: French\n",
            "Le changement climatique représente l’un des défis les plus urgents de notre époque. Il est crucial que nous agissions collectivement pour préserver notre planète pour les générations futures. Quelles actions concrètes pouvez-vous entreprendre dès aujourd’hui pour contribuer à un avenir plus durable ? #ChangementClimatique #Durabilité\n",
            "---\n",
            "Topic: Personal Branding | Language: Spanish\n",
            "Construir una marca personal sólida en la era digital es clave para destacar en tu profesión. Comparte tu historia, demuestra tu experiencia y conecta con otros. ¿Qué acciones estás tomando hoy para potenciar tu marca personal? #MarcaPersonal #CrecimientoProfesional\n",
            "---\n",
            "Topic: Data Privacy | Language: French\n",
            "La protection de la vie privée en ligne n'est pas une option, mais une nécessité. Soyez vigilant, informez-vous sur vos droits, et adoptez des pratiques pour sécuriser vos données. Ensemble, construisons un avenir numérique plus sûr. #ProtectionDesDonnées #SécuritéNumérique\n"
          ]
        }
      ]
    }
  ]
}